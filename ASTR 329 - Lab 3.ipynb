{
 "cells": [
  {
   "cell_type": "code",
   "execution_count": 1,
   "metadata": {},
   "outputs": [
    {
     "name": "stdout",
     "output_type": "stream",
     "text": [
      "Populating the interactive namespace from numpy and matplotlib\n"
     ]
    },
    {
     "name": "stderr",
     "output_type": "stream",
     "text": [
      "/opt/conda/lib/python3.7/site-packages/IPython/core/magics/pylab.py:160: UserWarning: pylab import has clobbered these variables: ['draw_if_interactive', 'new_figure_manager', 'solve']\n",
      "`%matplotlib` prevents importing * from pylab and numpy\n",
      "  \"\\n`%matplotlib` prevents importing * from pylab and numpy\"\n"
     ]
    }
   ],
   "source": [
    "import pandas as pd\n",
    "import numpy as np\n",
    "import scipy\n",
    "import sympy\n",
    "from sympy.solvers import solve\n",
    "from scipy import stats\n",
    "import matplotlib.pyplot as plt\n",
    "from matplotlib.pyplot import *\n",
    "%pylab nbagg\n",
    "%matplotlib inline"
   ]
  },
  {
   "cell_type": "code",
   "execution_count": 2,
   "metadata": {},
   "outputs": [
    {
     "name": "stdout",
     "output_type": "stream",
     "text": [
      "The deviation in x values is: 13.975799894152628\n",
      "The deviation in y values is: 10.320274936047749\n",
      "The mean in x values is: 952.329578125\n",
      "The mean in y values is: 712.9812031249999\n"
     ]
    }
   ],
   "source": [
    "#x and y coordinates of the stars\n",
    "x = np.array([970.794,976.214,976.214,976.214,927.429,927.429,927.429,927.429,932.849,927.429,932.849,932.849,932.849,932.849,932.849,932.849,938.270,938.270,938.270,938.270,938.27,943.690,943.690,943.690,949.111,949.111,949.111,949.111,949.111,949.111,954.532,954.532,954.532,954.532,954.532,959.952,959.952,959.952,954.532,954.532,954.532,959.952,959.952,954.532,954.532,959.952,959.952,959.952,959.952,959.952,959.952,959.952,959.952,959.952,965.373,965.373,965.373,965.373,965.373,970.794,970.794,970.794,970.794,970.794])\n",
    "y = np.array([699.762,699.762,699.762,699.762,721.444,726.865,721.444,721.444,721.444,726.865,726.865,721.444,721.444,721.444,726.865,721.444,721.444,721.444,721.444,721.444,721.444,721.444,721.444,721.444,721.444,726.865,721.865,721.444,726.865,721.444,721.444,721.444,721.444,721.444,721.444,721.444,721.444,721.444,705.183,705.183,699.762,705.183,705.183,705.183,705.183,699.762,705.183,705.183,705.183,705.183,705.183,705.183,705.183,705.183,699.762,699.762,699.762,699.762,699.762,699.762,699.762,699.762,699.762,699.762])\n",
    "\n",
    "#Calculating mean and standard deviation for the above data\n",
    "xstd = np.std(x)\n",
    "ystd = np.std(y)\n",
    "\n",
    "xmean = np.mean(x)\n",
    "ymean = np.mean(y)\n",
    "\n",
    "print(\"The deviation in x values is:\",xstd)\n",
    "print(\"The deviation in y values is:\",ystd)\n",
    "print(\"The mean in x values is:\",xmean)\n",
    "print(\"The mean in y values is:\",ymean)"
   ]
  },
  {
   "cell_type": "code",
   "execution_count": 3,
   "metadata": {},
   "outputs": [
    {
     "name": "stdout",
     "output_type": "stream",
     "text": [
      "970.794 , 699.762\n",
      "976.214 , 699.762\n",
      "976.214 , 699.762\n",
      "976.214 , 699.762\n",
      "927.429 , 721.444\n",
      "927.429 , 726.865\n",
      "927.429 , 721.444\n",
      "927.429 , 721.444\n",
      "932.849 , 721.444\n",
      "927.429 , 726.865\n",
      "932.849 , 726.865\n",
      "932.849 , 721.444\n",
      "932.849 , 721.444\n",
      "932.849 , 721.444\n",
      "932.849 , 726.865\n",
      "932.849 , 721.444\n",
      "938.27 , 721.444\n",
      "938.27 , 721.444\n",
      "938.27 , 721.444\n",
      "938.27 , 721.444\n",
      "938.27 , 721.444\n",
      "943.69 , 721.444\n",
      "943.69 , 721.444\n",
      "943.69 , 721.444\n",
      "949.111 , 721.444\n",
      "949.111 , 726.865\n",
      "949.111 , 721.865\n",
      "949.111 , 721.444\n",
      "949.111 , 726.865\n",
      "949.111 , 721.444\n",
      "954.532 , 721.444\n",
      "954.532 , 721.444\n",
      "954.532 , 721.444\n",
      "954.532 , 721.444\n",
      "954.532 , 721.444\n",
      "959.952 , 721.444\n",
      "959.952 , 721.444\n",
      "959.952 , 721.444\n",
      "954.532 , 705.183\n",
      "954.532 , 705.183\n",
      "954.532 , 699.762\n",
      "959.952 , 705.183\n",
      "959.952 , 705.183\n",
      "954.532 , 705.183\n",
      "954.532 , 705.183\n",
      "959.952 , 699.762\n",
      "959.952 , 705.183\n",
      "959.952 , 705.183\n",
      "959.952 , 705.183\n",
      "959.952 , 705.183\n",
      "959.952 , 705.183\n",
      "959.952 , 705.183\n",
      "959.952 , 705.183\n",
      "959.952 , 705.183\n",
      "965.373 , 699.762\n",
      "965.373 , 699.762\n",
      "965.373 , 699.762\n",
      "965.373 , 699.762\n",
      "965.373 , 699.762\n",
      "970.794 , 699.762\n",
      "970.794 , 699.762\n",
      "970.794 , 699.762\n",
      "970.794 , 699.762\n",
      "970.794 , 699.762\n"
     ]
    }
   ],
   "source": [
    "#Printing out the values to double check\n",
    "for n in range(0,64):\n",
    "    print(x[n],\",\",y[n])"
   ]
  },
  {
   "cell_type": "code",
   "execution_count": 4,
   "metadata": {
    "slideshow": {
     "slide_type": "subslide"
    }
   },
   "outputs": [
    {
     "data": {
      "text/plain": [
       "True"
      ]
     },
     "execution_count": 4,
     "metadata": {},
     "output_type": "execute_result"
    }
   ],
   "source": [
    "#Checking the length of x = length of y for further calculations\n",
    "len(x)==len(y)"
   ]
  },
  {
   "cell_type": "code",
   "execution_count": 5,
   "metadata": {},
   "outputs": [],
   "source": [
    "#Reading data for stars and assigning variables for each column\n",
    "star1       = np.loadtxt(\"star1.txt\"[:])\n",
    "star1sum6   = star1[:,0]\n",
    "star1sum12  = star1[:,1]\n",
    "star1sum18  = star1[:,2]\n",
    "star1sum22  = star1[:,3]\n",
    "star1sum26  = star1[:,4]\n",
    "star1msky   = star1[:,10]\n",
    "star1flux6  = star1[:,11]\n",
    "star1flux12 = star1[:,12]\n",
    "star1flux18 = star1[:,13]\n",
    "star1flux22 = star1[:,14]\n",
    "star1flux26 = star1[:,15]\n",
    "\n",
    "star2       = np.loadtxt(\"star2.txt\"[:])\n",
    "star2sum6   = star2[:,0]\n",
    "star2sum12  = star2[:,1]\n",
    "star2sum18  = star2[:,2]\n",
    "star2sum22  = star2[:,3]\n",
    "star2sum26  = star2[:,4]\n",
    "star2msky   = star2[:,10]\n",
    "star2flux6  = star2[:,11]\n",
    "star2flux12 = star2[:,12]\n",
    "star2flux18 = star2[:,13]\n",
    "star2flux22 = star2[:,14]\n",
    "star2flux26 = star2[:,15]\n",
    "\n",
    "star3       = np.loadtxt(\"star3.txt\"[:])\n",
    "star3sum6   = star3[:,0]\n",
    "star3sum12  = star3[:,1]\n",
    "star3sum18  = star3[:,2]\n",
    "star3sum22  = star3[:,3]\n",
    "star3sum26  = star3[:,4]\n",
    "star3msky   = star3[:,10]\n",
    "star3flux6  = star3[:,11]\n",
    "star3flux12 = star3[:,12]\n",
    "star3flux18 = star3[:,13]\n",
    "star3flux22 = star3[:,14]\n",
    "star3flux26 = star3[:,15]\n",
    "\n",
    "star4       = np.loadtxt(\"star4.txt\"[:])\n",
    "star4sum6   = star4[:,0]\n",
    "star4sum12  = star4[:,1]\n",
    "star4sum18  = star4[:,2]\n",
    "star4sum22  = star4[:,3]\n",
    "star4sum26  = star4[:,4]\n",
    "star4msky   = star4[:,10]\n",
    "star4flux6  = star4[:,11]\n",
    "star4flux12 = star4[:,12]\n",
    "star4flux18 = star4[:,13]\n",
    "star4flux22 = star4[:,14]\n",
    "star4flux26 = star4[:,15]\n",
    "\n",
    "star5       = np.loadtxt(\"star5.txt\"[:])\n",
    "star5sum6   = star5[:,0]\n",
    "star5sum12  = star5[:,1]\n",
    "star5sum18  = star5[:,2]\n",
    "star5sum22  = star5[:,3]\n",
    "star5sum26  = star5[:,4]\n",
    "star5msky   = star5[:,10]\n",
    "star5flux6  = star5[:,11]\n",
    "star5flux12 = star5[:,12]\n",
    "star5flux18 = star5[:,13]\n",
    "star5flux22 = star5[:,14]\n",
    "star5flux26 = star5[:,15]\n",
    "\n",
    "star6       = np.loadtxt(\"star6.txt\"[:])\n",
    "star6sum6   = star6[:,0]\n",
    "star6sum12  = star6[:,1]\n",
    "star6sum18  = star6[:,2]\n",
    "star6sum22  = star6[:,3]\n",
    "star6sum26  = star6[:,4]\n",
    "star6msky   = star6[:,10]\n",
    "star6flux6  = star6[:,11]\n",
    "star6flux12 = star6[:,12]\n",
    "star6flux18 = star6[:,13]\n",
    "star6flux22 = star6[:,14]\n",
    "star6flux26 = star6[:,15]\n",
    "\n",
    "star7       = np.loadtxt(\"star7.txt\"[:])\n",
    "star7sum6   = star7[:,0]\n",
    "star7sum12  = star7[:,1]\n",
    "star7sum18  = star7[:,2]\n",
    "star7sum22  = star7[:,3]\n",
    "star7sum26  = star7[:,4]\n",
    "star7msky   = star7[:,10]\n",
    "star7flux6  = star7[:,11]\n",
    "star7flux12 = star7[:,12]\n",
    "star7flux18 = star7[:,13]\n",
    "star7flux22 = star7[:,14]\n",
    "star7flux26 = star7[:,15]\n",
    "\n",
    "star8       = np.loadtxt(\"star8.txt\"[:])\n",
    "star8sum6   = star8[:,0]\n",
    "star8sum12  = star8[:,1]\n",
    "star8sum18  = star8[:,2]\n",
    "star8sum22  = star8[:,3]\n",
    "star8sum26  = star8[:,4]\n",
    "star8msky   = star8[:,10]\n",
    "star8flux6  = star8[:,11]\n",
    "star8flux12 = star8[:,12]\n",
    "star8flux18 = star8[:,13]\n",
    "star8flux22 = star8[:,14]\n",
    "star8flux26 = star8[:,15]\n",
    "\n",
    "star9       = np.loadtxt(\"star9.txt\"[:])\n",
    "star9sum6   = star9[:,0]\n",
    "star9sum12  = star9[:,1]\n",
    "star9sum18  = star9[:,2]\n",
    "star9sum22  = star9[:,3]\n",
    "star9sum26  = star9[:,4]\n",
    "star9msky   = star9[:,10]\n",
    "star9flux6  = star9[:,11]\n",
    "star9flux12 = star9[:,12]\n",
    "star9flux18 = star9[:,13]\n",
    "star9lux22  = star9[:,14]\n",
    "star9lux26  = star9[:,15]\n",
    "\n",
    "star10       = np.loadtxt(\"star10.txt\"[:])\n",
    "star10sum6   = star10[:,0]\n",
    "star10sum12  = star10[:,1]\n",
    "star10sum18  = star10[:,2]\n",
    "star10sum22  = star10[:,3]\n",
    "star10sum26  = star10[:,4]\n",
    "star10msky   = star10[:,10]\n",
    "star10flux6  = star10[:,11]\n",
    "star10flux12 = star10[:,12]\n",
    "star10flux18 = star10[:,13]\n",
    "star10flux22 = star10[:,14]\n",
    "star10flux26 = star10[:,15]\n",
    "\n",
    "star11       = np.loadtxt(\"star11.txt\"[:])\n",
    "star11sum6   = star11[:,0]\n",
    "star11sum12  = star11[:,1]\n",
    "star11sum18  = star11[:,2]\n",
    "star11sum22  = star11[:,3]\n",
    "star11sum26  = star11[:,4]\n",
    "star11msky   = star11[:,10]\n",
    "star11flux6  = star11[:,11]\n",
    "star11flux12 = star11[:,12]\n",
    "star11flux18 = star11[:,13]\n",
    "star11flux22 = star11[:,14]\n",
    "star11flux26 = star11[:,15]\n",
    "\n",
    "star12       = np.loadtxt(\"star12.txt\"[:])\n",
    "star12sum6   = star12[:,0]\n",
    "star12sum12  = star12[:,1]\n",
    "star12sum18  = star12[:,2]\n",
    "star12sum22  = star12[:,3]\n",
    "star12sum26  = star12[:,4]\n",
    "star12msky   = star12[:,10]\n",
    "star12flux6  = star12[:,11]\n",
    "star12flux12 = star12[:,12]\n",
    "star12flux18 = star12[:,13]\n",
    "star12flux22 = star12[:,14]\n",
    "star12flux26 = star12[:,15]\n",
    "\n",
    "star13       = np.loadtxt(\"star13.txt\"[:])\n",
    "star13sum6   = star13[:,0]\n",
    "star13sum12  = star13[:,1]\n",
    "star13sum18  = star13[:,2]\n",
    "star13sum22  = star13[:,3]\n",
    "star13sum26  = star13[:,4]\n",
    "star13msky   = star13[:,10]\n",
    "star13flux6  = star13[:,11]\n",
    "star13flux12 = star13[:,12]\n",
    "star13flux18 = star13[:,13]\n",
    "star13flux22 = star13[:,14]\n",
    "star13flux26 = star13[:,15]\n",
    "\n",
    "star14       = np.loadtxt(\"star14.txt\"[:])\n",
    "star14sum6   = star14[:,0]\n",
    "star14sum12  = star14[:,1]\n",
    "star14sum18  = star14[:,2]\n",
    "star14sum22  = star14[:,3]\n",
    "star14sum26  = star14[:,4]\n",
    "star14msky   = star14[:,10]\n",
    "star14flux6  = star14[:,11]\n",
    "star14flux12 = star14[:,12]\n",
    "star14flux18 = star14[:,13]\n",
    "star14flux22 = star14[:,14]\n",
    "star14flux26 = star14[:,15]\n",
    "\n",
    "star15       = np.loadtxt(\"star15.txt\"[:])\n",
    "star15sum6   = star15[:,0]\n",
    "star15sum12  = star15[:,1]\n",
    "star15sum18  = star15[:,2]\n",
    "star15sum22  = star15[:,3]\n",
    "star15sum26  = star15[:,4]\n",
    "star15msky   = star15[:,10]\n",
    "star15flux6  = star15[:,11]\n",
    "star15flux12 = star15[:,12]\n",
    "star15flux18 = star15[:,13]\n",
    "star15flux22 = star15[:,14]\n",
    "star15flux26 = star15[:,15]\n",
    "\n",
    "star16       = np.loadtxt(\"star16.txt\"[:])\n",
    "star16sum6   = star16[:,0]\n",
    "star16sum12  = star16[:,1]\n",
    "star16sum18  = star16[:,2]\n",
    "star16sum22  = star16[:,3]\n",
    "star16sum26  = star16[:,4]\n",
    "star16msky   = star16[:,10]\n",
    "star16flux6  = star16[:,11]\n",
    "star16flux12 = star16[:,12]\n",
    "star16flux18 = star16[:,13]\n",
    "star16flux22 = star16[:,14]\n",
    "star16flux26 = star16[:,15]\n",
    "\n",
    "star17       = np.loadtxt(\"star17.txt\"[:])\n",
    "star17sum6   = star17[:,0]\n",
    "star17sum12  = star17[:,1]\n",
    "star17sum18  = star17[:,2]\n",
    "star17sum22  = star17[:,3]\n",
    "star17sum26  = star17[:,4]\n",
    "star17msky   = star17[:,10]\n",
    "star17flux6  = star17[:,11]\n",
    "star17flux12 = star17[:,12]\n",
    "star17flux18 = star17[:,13]\n",
    "star17flux22 = star17[:,14]\n",
    "star17flux26 = star17[:,15]\n",
    "\n",
    "star18       = np.loadtxt(\"star18.txt\"[:])\n",
    "star18sum6   = star18[:,0]\n",
    "star18sum12  = star18[:,1]\n",
    "star18sum18  = star18[:,2]\n",
    "star18sum22  = star18[:,3]\n",
    "star18sum26  = star18[:,4]\n",
    "star18msky   = star18[:,10]\n",
    "star18flux6  = star18[:,11]\n",
    "star18flux12 = star18[:,12]\n",
    "star18flux18 = star18[:,13]\n",
    "star18flux22 = star18[:,14]\n",
    "star18flux26 = star18[:,15]\n",
    "\n",
    "star19       = np.loadtxt(\"star19.txt\"[:])\n",
    "star19sum6   = star19[:,0]\n",
    "star19sum12  = star19[:,1]\n",
    "star19sum18  = star19[:,2]\n",
    "star19sum22  = star19[:,3]\n",
    "star19sum26  = star19[:,4]\n",
    "star19msky   = star19[:,10]\n",
    "star19flux6  = star19[:,11]\n",
    "star19flux12 = star19[:,12]\n",
    "star19flux18 = star19[:,13]\n",
    "star19flux22 = star19[:,14]\n",
    "star19flux26 = star19[:,15]\n",
    "\n",
    "star20       = np.loadtxt(\"star20.txt\"[:])\n",
    "star20sum6   = star20[:,0]\n",
    "star20sum12  = star20[:,1]\n",
    "star20sum18  = star20[:,2]\n",
    "star20sum22  = star20[:,3]\n",
    "star20sum26  = star20[:,4]\n",
    "star20msky   = star20[:,10]\n",
    "star20flux6  = star20[:,11]\n",
    "star20flux12 = star20[:,12]\n",
    "star20flux18 = star20[:,13]\n",
    "star20flux22 = star20[:,14]\n",
    "star20flux26 = star20[:,15]\n",
    "\n",
    "star21       = np.loadtxt(\"star21.txt\"[:])\n",
    "star21sum6   = star21[:,0]\n",
    "star21sum12  = star21[:,1]\n",
    "star21sum18  = star21[:,2]\n",
    "star21sum22  = star21[:,3]\n",
    "star21sum26  = star21[:,4]\n",
    "star21msky   = star21[:,10]\n",
    "star21flux6  = star21[:,11]\n",
    "star21flux12 = star21[:,12]\n",
    "star21flux18 = star21[:,13]\n",
    "star21flux22 = star21[:,14]\n",
    "star21flux26 = star21[:,15]\n",
    "\n",
    "star22       = np.loadtxt(\"star22.txt\"[:])\n",
    "star22sum6   = star22[:,0]\n",
    "star22sum12  = star22[:,1]\n",
    "star22sum18  = star22[:,2]\n",
    "star22sum22  = star22[:,3]\n",
    "star22sum26  = star22[:,4]\n",
    "star22msky   = star22[:,10]\n",
    "star22flux6  = star22[:,11]\n",
    "star22flux12 = star22[:,12]\n",
    "star22flux18 = star22[:,13]\n",
    "star22flux22 = star22[:,14]\n",
    "star22flux26 = star22[:,15]\n",
    "\n",
    "star23       = np.loadtxt(\"star23.txt\"[:])\n",
    "star23sum6   = star23[:,0]\n",
    "star23sum12  = star23[:,1]\n",
    "star23sum18  = star23[:,2]\n",
    "star23sum22  = star23[:,3]\n",
    "star23sum26  = star23[:,4]\n",
    "star23msky   = star23[:,10]\n",
    "star23flux6  = star23[:,11]\n",
    "star23flux12 = star23[:,12]\n",
    "star23flux18 = star23[:,13]\n",
    "star23flux22 = star23[:,14]\n",
    "star23flux26 = star23[:,15]\n",
    "\n",
    "star24       = np.loadtxt(\"star24.txt\"[:])\n",
    "star24sum6   = star24[:,0]\n",
    "star24sum12  = star24[:,1]\n",
    "star24sum18  = star24[:,2]\n",
    "star24sum22  = star24[:,3]\n",
    "star24sum26  = star24[:,4]\n",
    "star24msky   = star24[:,10]\n",
    "star24flux6  = star24[:,11]\n",
    "star24flux12 = star24[:,12]\n",
    "star24flux18 = star24[:,13]\n",
    "star24flux22 = star24[:,14]\n",
    "star24flux26 = star24[:,15]\n",
    "\n",
    "star25       = np.loadtxt(\"star25.txt\"[:])\n",
    "star25sum6   = star25[:,0]\n",
    "star25sum12  = star25[:,1]\n",
    "star25sum18  = star25[:,2]\n",
    "star25sum22  = star25[:,3]\n",
    "star25sum26  = star25[:,4]\n",
    "star25msky   = star25[:,10]\n",
    "star25flux6  = star25[:,11]\n",
    "star25flux12 = star25[:,12]\n",
    "star25flux18 = star25[:,13]\n",
    "star25flux22 = star25[:,14]\n",
    "star25flux26 = star25[:,15]"
   ]
  },
  {
   "cell_type": "code",
   "execution_count": 6,
   "metadata": {},
   "outputs": [],
   "source": [
    "#Calculating mean and standard deviations for aperture sizes, msky, and fluxes\n",
    "meansum6 = (np.mean(star1sum6),np.mean(star2sum6),np.mean(star3sum6),np.mean(star4sum6),np.mean(star5sum6),np.mean(star6sum6),np.mean(star7sum6),np.mean(star8sum6),np.mean(star9sum6),np.mean(star10sum6),np.mean(star11sum6),np.mean(star12sum6),np.mean(star13sum6),np.mean(star14sum6),np.mean(star15sum6),np.mean(star16sum6),np.mean(star17sum6),np.mean(star18sum6),np.mean(star19sum6),np.mean(star20sum6),np.mean(star21sum6),np.mean(star22sum6),np.mean(star23sum6),np.mean(star24sum6),np.mean(star25sum6))\n",
    "stdsum6  = (np.std(star1sum6),np.std(star2sum6),np.std(star3sum6),np.std(star4sum6),np.std(star5sum6),np.std(star6sum6),np.std(star7sum6),np.std(star8sum6),np.std(star9sum6),np.std(star10sum6),np.std(star11sum6),np.std(star12sum6),np.std(star13sum6),np.std(star14sum6),np.std(star15sum6),np.std(star16sum6),np.std(star17sum6),np.std(star18sum6),np.std(star19sum6),np.std(star20sum6),np.std(star21sum6),np.std(star22sum6),np.std(star23sum6),np.std(star24sum6),np.std(star25sum6))\n",
    "\n",
    "meansum12 = (np.mean(star1sum12),np.mean(star2sum12),np.mean(star3sum12),np.mean(star4sum12),np.mean(star5sum12),np.mean(star6sum12),np.mean(star7sum12),np.mean(star8sum12),np.mean(star9sum12),np.mean(star10sum12),np.mean(star11sum12),np.mean(star12sum12),np.mean(star13sum12),np.mean(star14sum12),np.mean(star15sum12),np.mean(star16sum12),np.mean(star17sum12),np.mean(star18sum12),np.mean(star19sum12),np.mean(star20sum12),np.mean(star21sum12),np.mean(star22sum12),np.mean(star23sum12),np.mean(star24sum12),np.mean(star25sum12))\n",
    "stdsum12  = (np.std(star1sum12),np.std(star2sum12),np.std(star3sum12),np.std(star4sum12),np.std(star5sum12),np.std(star6sum12),np.std(star7sum12),np.std(star8sum12),np.std(star9sum12),np.std(star10sum12),np.std(star11sum12),np.std(star12sum12),np.std(star13sum12),np.std(star14sum12),np.std(star15sum12),np.std(star16sum12),np.std(star17sum12),np.std(star18sum12),np.std(star19sum12),np.std(star20sum12),np.std(star21sum12),np.std(star22sum12),np.std(star23sum12),np.std(star24sum12),np.std(star25sum12))\n",
    "\n",
    "meansum18 = (np.mean(star1sum18),np.mean(star2sum18),np.mean(star3sum18),np.mean(star4sum18),np.mean(star5sum18),np.mean(star6sum18),np.mean(star7sum18),np.mean(star8sum18),np.mean(star9sum18),np.mean(star10sum18),np.mean(star11sum18),np.mean(star12sum18),np.mean(star13sum18),np.mean(star14sum18),np.mean(star15sum18),np.mean(star16sum18),np.mean(star17sum18),np.mean(star18sum18),np.mean(star19sum18),np.mean(star20sum18),np.mean(star21sum18),np.mean(star22sum18),np.mean(star23sum18),np.mean(star24sum18),np.mean(star25sum18))\n",
    "stdsum18  = (np.std(star1sum18),np.std(star2sum18),np.std(star3sum18),np.std(star4sum18),np.std(star5sum18),np.std(star6sum18),np.std(star7sum18),np.std(star8sum18),np.std(star9sum18),np.std(star10sum18),np.std(star11sum18),np.std(star12sum18),np.std(star13sum18),np.std(star14sum18),np.std(star15sum18),np.std(star16sum18),np.std(star17sum18),np.std(star18sum18),np.std(star19sum18),np.std(star20sum18),np.std(star21sum18),np.std(star22sum18),np.std(star23sum18),np.std(star24sum18),np.std(star25sum18))\n",
    "             \n",
    "meansum22 = (np.mean(star1sum22),np.mean(star2sum22),np.mean(star3sum22),np.mean(star4sum22),np.mean(star5sum22),np.mean(star6sum22),np.mean(star7sum22),np.mean(star8sum22),np.mean(star9sum22),np.mean(star10sum22),np.mean(star11sum22),np.mean(star12sum22),np.mean(star13sum22),np.mean(star14sum22),np.mean(star15sum22),np.mean(star16sum22),np.mean(star17sum22),np.mean(star18sum22),np.mean(star19sum22),np.mean(star20sum22),np.mean(star21sum22),np.mean(star22sum22),np.mean(star23sum22),np.mean(star24sum22),np.mean(star25sum22))\n",
    "stdsum22  = (np.std(star1sum22),np.std(star2sum22),np.std(star3sum22),np.std(star4sum22),np.std(star5sum22),np.std(star6sum22),np.std(star7sum22),np.std(star8sum22),np.std(star9sum22),np.std(star10sum22),np.std(star11sum22),np.std(star12sum22),np.std(star13sum22),np.std(star14sum22),np.std(star15sum22),np.std(star16sum22),np.std(star17sum22),np.std(star18sum22),np.std(star19sum22),np.std(star20sum22),np.std(star21sum22),np.std(star22sum22),np.std(star23sum22),np.std(star24sum22),np.std(star25sum22))\n",
    "             \n",
    "meansum26 = (np.mean(star1sum26),np.mean(star2sum26),np.mean(star3sum26),np.mean(star4sum26),np.mean(star5sum26),np.mean(star6sum26),np.mean(star7sum26),np.mean(star8sum26),np.mean(star9sum26),np.mean(star10sum26),np.mean(star11sum26),np.mean(star12sum26),np.mean(star13sum26),np.mean(star14sum26),np.mean(star15sum26),np.mean(star16sum26),np.mean(star17sum26),np.mean(star18sum26),np.mean(star19sum26),np.mean(star20sum26),np.mean(star21sum26),np.mean(star22sum26),np.mean(star23sum26),np.mean(star24sum26),np.mean(star25sum26))\n",
    "stdsum26  = (np.std(star1sum26),np.std(star2sum26),np.std(star3sum26),np.std(star4sum26),np.std(star5sum26),np.std(star6sum26),np.std(star7sum26),np.std(star8sum26),np.std(star9sum26),np.std(star10sum26),np.std(star11sum26),np.std(star12sum26),np.std(star13sum26),np.std(star14sum26),np.std(star15sum26),np.std(star16sum26),np.std(star17sum26),np.std(star18sum12),np.std(star19sum26),np.std(star20sum26),np.std(star21sum26),np.std(star22sum26),np.std(star23sum26),np.std(star24sum26),np.std(star25sum26))\n",
    "             \n",
    "meanmsky = (np.mean(star1msky),np.mean(star2msky),np.mean(star3msky),np.mean(star4msky),np.mean(star4msky),np.mean(star5msky),np.mean(star6msky),np.mean(star7msky),np.mean(star8msky),np.mean(star9msky),np.mean(star10msky),np.mean(star11msky),np.mean(star12msky),np.mean(star13msky),np.mean(star14msky),np.mean(star15msky),np.mean(star16msky),np.mean(star17msky),np.mean(star18msky),np.mean(star19msky),np.mean(star20msky),np.mean(star21msky),np.mean(star22msky),np.mean(star23msky),np.mean(star24msky),np.mean(star25msky))\n",
    "stdmsky  = (np.std(star1msky),np.std(star2msky),np.std(star3msky),np.std(star4msky),np.std(star5msky),np.std(star5msky),np.std(star6msky),np.std(star7msky),np.std(star8msky),np.std(star9msky),np.std(star10msky),np.std(star11msky),np.std(star12msky),np.std(star13msky),np.std(star14msky),np.std(star15msky),np.std(star16msky),np.std(star17msky),np.std(star18msky),np.std(star19msky),np.std(star20msky),np.std(star21msky),np.std(star22msky),np.std(star23msky),np.std(star24msky),np.std(star25msky))\n",
    "            \n",
    "meanflux6 = (np.mean(star1flux6),np.mean(star2flux6),np.mean(star3flux6),np.mean(star4flux6),np.mean(star5flux6),np.mean(star6flux6),np.mean(star7flux6),np.mean(star8flux6),np.mean(star9flux6),np.mean(star10flux6),np.mean(star11flux6),np.mean(star12flux6),np.mean(star13flux6),np.mean(star14flux6),np.mean(star15flux6),np.mean(star16flux6),np.mean(star17flux6),np.mean(star18flux6),np.mean(star19flux6),np.mean(star20flux6),np.mean(star21flux6),np.mean(star22flux6),np.mean(star23flux6),np.mean(star24flux6),np.mean(star25flux6))\n",
    "stdflux6  = (np.std(star1flux6),np.std(star2flux6),np.std(star3flux6),np.std(star4flux6),np.std(star5flux6),np.std(star6flux6),np.std(star7flux6),np.std(star8flux6),np.std(star9flux6),np.std(star10flux6),np.std(star11flux6),np.std(star12flux6),np.std(star13flux6),np.std(star14flux6),np.std(star15flux6),np.std(star16flux6),np.std(star17flux6),np.std(star18flux6),np.std(star19flux6),np.std(star20flux6),np.std(star21flux6),np.std(star22flux6),np.std(star23flux6),np.std(star24flux6),np.std(star25flux6))\n",
    "\n",
    "meanflux12 = (np.mean(star1flux12),np.mean(star2flux12),np.mean(star3flux12),np.mean(star4flux12),np.mean(star5flux12),np.mean(star6flux12),np.mean(star7flux12),np.mean(star8flux12),np.mean(star9flux12),np.mean(star10flux12),np.mean(star11flux12),np.mean(star12flux12),np.mean(star13flux12),np.mean(star14flux12),np.mean(star15flux12),np.mean(star16flux12),np.mean(star17flux12),np.mean(star18flux12),np.mean(star19flux12),np.mean(star20flux12),np.mean(star21flux12),np.mean(star22flux12),np.mean(star23flux12),np.mean(star24flux12),np.mean(star25flux12))\n",
    "stdflux12  = (np.std(star2flux12),np.std(star2flux12),np.std(star3flux12),np.std(star4flux12),np.std(star5flux12),np.std(star6flux12),np.std(star7flux12),np.std(star8flux12),np.std(star9flux12),np.std(star10flux12),np.std(star11flux12),np.std(star12flux12),np.std(star13flux12),np.std(star14flux12),np.std(star15flux12),np.std(star16flux12),np.std(star17flux12),np.std(star18flux12),np.std(star19flux12),np.std(star20flux12),np.mean(star21flux12),np.mean(star22flux12),np.std(star23flux12),np.std(star24flux12),np.std(star25flux12))\n",
    "              \n",
    "meanflux18 = (np.mean(star1flux18),np.mean(star2flux18),np.mean(star3flux18),np.mean(star4flux18),np.mean(star5flux18),np.mean(star6flux18),np.mean(star7flux18),np.mean(star8flux18),np.mean(star9flux18),np.mean(star10flux18),np.mean(star11flux18),np.mean(star12flux18),np.mean(star13flux18),np.mean(star14flux18),np.mean(star15flux18),np.mean(star16flux18),np.mean(star17flux18),np.mean(star18flux18),np.mean(star19flux18),np.mean(star20flux18),np.mean(star21flux18),np.mean(star22flux18),np.mean(star23flux18),np.mean(star24flux18),np.mean(star25flux18))\n",
    "stdflux18  = (np.std(star2flux18),np.std(star2flux18),np.std(star3flux18),np.std(star4flux18),np.std(star5flux18),np.std(star6flux18),np.std(star7flux18),np.std(star8flux18),np.std(star9flux18),np.std(star10flux18),np.std(star11flux18),np.std(star12flux18),np.std(star13flux18),np.std(star14flux18),np.std(star15flux18),np.std(star16flux18),np.std(star17flux18),np.std(star18flux18),np.std(star19flux18),np.std(star20flux18),np.mean(star21flux18),np.mean(star22flux18),np.std(star23flux18),np.std(star24flux18),np.std(star25flux18))\n",
    "\n",
    "meanflux22 = (np.mean(star1flux22),np.mean(star2flux22),np.mean(star3flux22),np.mean(star4flux22),np.mean(star5flux22),np.mean(star6flux22),np.mean(star7flux22),np.mean(star8flux22),np.mean(star10flux22),np.mean(star11flux22),np.mean(star12flux22),np.mean(star13flux22),np.mean(star14flux22),np.mean(star15flux22),np.mean(star16flux22),np.mean(star17flux22),np.mean(star18flux22),np.mean(star19flux22),np.mean(star20flux22),np.mean(star21flux22),np.mean(star22flux22),np.mean(star23flux22),np.mean(star24flux22),np.mean(star25flux22))\n",
    "stdflux22  = (np.std(star2flux22),np.std(star2flux22),np.std(star3flux22),np.std(star4flux22),np.std(star5flux22),np.std(star6flux22),np.std(star7flux22),np.std(star8flux22),np.std(star10flux22),np.std(star11flux22),np.std(star12flux22),np.std(star13flux22),np.std(star14flux22),np.std(star15flux22),np.std(star16flux22),np.std(star17flux22),np.std(star18flux22),np.std(star19flux22),np.std(star20flux22),np.mean(star21flux22),np.mean(star22flux22),np.std(star23flux22),np.std(star24flux22),np.std(star25flux22))\n",
    "\n",
    "meanflux26 = (np.mean(star1flux26),np.mean(star2flux26),np.mean(star3flux26),np.mean(star4flux26),np.mean(star5flux26),np.mean(star6flux26),np.mean(star7flux26),np.mean(star8flux26),np.mean(star10flux26),np.mean(star11flux26),np.mean(star12flux26),np.mean(star13flux26),np.mean(star14flux26),np.mean(star15flux26),np.mean(star16flux26),np.mean(star17flux26),np.mean(star18flux26),np.mean(star19flux26),np.mean(star20flux26),np.mean(star21flux26),np.mean(star22flux26),np.mean(star23flux26),np.mean(star24flux26),np.mean(star25flux26))\n",
    "stdflux26  = (np.std(star2flux26),np.std(star2flux26),np.std(star3flux26),np.std(star4flux26),np.std(star5flux26),np.std(star6flux26),np.std(star7flux26),np.std(star8flux26),np.std(star10flux26),np.std(star11flux26),np.std(star12flux26),np.std(star13flux26),np.std(star14flux26),np.std(star15flux26),np.std(star16flux26),np.std(star17flux26),np.std(star18flux26),np.std(star19flux26),np.std(star20flux26),np.mean(star21flux26),np.mean(star22flux26),np.std(star23flux26),np.std(star24flux26),np.std(star25flux26))"
   ]
  },
  {
   "cell_type": "code",
   "execution_count": 7,
   "metadata": {
    "scrolled": false
   },
   "outputs": [
    {
     "data": {
      "text/plain": [
       "Text(0, 0.5, 'Noise')"
      ]
     },
     "execution_count": 7,
     "metadata": {},
     "output_type": "execute_result"
    },
    {
     "data": {
      "image/png": "[encoded data removed]",
      "text/plain": [
       "<Figure size 576x576 with 1 Axes>"
      ]
     },
     "metadata": {
      "needs_background": "light"
     },
     "output_type": "display_data"
    },
    {
     "data": {
      "image/png": "[encoded data removed]",
      "text/plain": [
       "<Figure size 576x576 with 1 Axes>"
      ]
     },
     "metadata": {
      "needs_background": "light"
     },
     "output_type": "display_data"
    },
    {
     "data": {
      "image/png": "[encoded data removed]",
      "text/plain": [
       "<Figure size 576x576 with 1 Axes>"
      ]
     },
     "metadata": {
      "needs_background": "light"
     },
     "output_type": "display_data"
    },
    {
     "data": {
      "image/png": "[encoded data removed]",
      "text/plain": [
       "<Figure size 576x576 with 1 Axes>"
      ]
     },
     "metadata": {
      "needs_background": "light"
     },
     "output_type": "display_data"
    }
   ],
   "source": [
    "#Plotting means vs. standard deviations\n",
    "plt.figure(figsize=(8,8))\n",
    "plt.title(\"Averages and Standard Deviations\")\n",
    "plt.scatter(log10(meansum6),log10(stdsum6),label='Sum6')\n",
    "plt.scatter(log10(meansum12),log10(stdsum12),label='Sum12')\n",
    "plt.scatter(log10(meansum18),log10(stdsum18),label='Sum18')\n",
    "plt.scatter(log10(meansum22),log10(stdsum22),label='Sum22')\n",
    "plt.scatter(log10(meansum26),log10(stdsum26),label='Sum26')\n",
    "plt.scatter(log10(meanflux6),log10(stdflux6),label='Flux6')\n",
    "plt.scatter(log10(meanflux12),log10(stdflux12),label='Flux12')\n",
    "plt.scatter(log10(meanflux18),log10(stdflux18),label='Flux18')\n",
    "plt.scatter(log10(meanflux22),log10(stdflux22),label='Flux22')\n",
    "plt.scatter(log10(meanflux26),log10(stdflux26),label='Flux26')\n",
    "plt.xlabel('Mean')\n",
    "plt.ylabel('Standard Deviation')\n",
    "plt.legend()\n",
    "plt.grid()\n",
    "\n",
    "plt.figure(figsize=(8,8))\n",
    "plt.title(\"Averages and Standard Deviations of Fluxes\")\n",
    "plt.scatter(log10(meanflux6),log10(stdflux6),label='Flux6')\n",
    "plt.scatter(log10(meanflux12),log10(stdflux12),label='Flux12')\n",
    "plt.scatter(log10(meanflux18),log10(stdflux18),label='Flux18')\n",
    "plt.scatter(log10(meanflux22),log10(stdflux22),label='Flux22')\n",
    "plt.scatter(log10(meanflux26),log10(stdflux26),label='Flux26')\n",
    "plt.ylabel('Standard Deviation')\n",
    "plt.xlabel('Mean')\n",
    "plt.legend()\n",
    "plt.grid()\n",
    "\n",
    "plt.figure(figsize=(8,8))\n",
    "plt.title('Averages and Standard Deviations of MSky')\n",
    "plt.scatter(log10(meanmsky),log10(stdmsky),label='MSky')\n",
    "plt.xlabel('Mean')\n",
    "plt.ylabel('Standard Deviation')\n",
    "plt.legend()\n",
    "plt.grid()\n",
    "\n",
    "plt.figure(figsize=(8,8))\n",
    "plt.title(\"Signal to Noise (Aperture 18)\")\n",
    "meanstd18 = np.array(meanflux18) / np.array(stdflux18)\n",
    "plt.scatter(log10(meanflux18),log10(meanstd18))\n",
    "plt.grid()\n",
    "plt.xlabel(\"Signal\")\n",
    "plt.ylabel(\"Noise\")"
   ]
  },
  {
   "cell_type": "markdown",
   "metadata": {},
   "source": [
    "Aperture 18 is a good aperture to choose."
   ]
  },
  {
   "cell_type": "markdown",
   "metadata": {},
   "source": [
    "V - (V-R) = Rmag"
   ]
  },
  {
   "cell_type": "code",
   "execution_count": 28,
   "metadata": {},
   "outputs": [
    {
     "data": {
      "image/png": "[encoded data removed]",
      "text/plain": [
       "<Figure size 576x576 with 1 Axes>"
      ]
     },
     "metadata": {
      "needs_background": "light"
     },
     "output_type": "display_data"
    }
   ],
   "source": [
    "#13.531 Rmag and np.mean(star14flux18)\n",
    "#11.0059 and np.mean(star15flux18)\n",
    "#11.136 and np.mean(star16flux18)\n",
    "#11.231 and np.mean(star22flux18)\n",
    "#11.166 and np.mean(star23flux18)\n",
    "#12.46 and np.mean(star20flux18)\n",
    "#10.8672 and np.mean(star13flux18)\n",
    "#12.503 and np.mean(star19flux18)\n",
    "#13.074 and np.mean(star21flux18)\n",
    "#12.834 and np.mean(star18flux18)\n",
    "#11.524 and np.mean(star24flux18)\n",
    "#11.61 and np.mean(star12flux18)\n",
    "Rmag = (12.514,11.7011,12.1691,11.851,13.06,12.084,12.683,12.25)\n",
    "flux18 = (np.mean(star2flux18),np.mean(star6flux18),np.mean(star7flux18),np.mean(star8flux18),np.mean(star9flux18),np.mean(star10flux18),np.mean(star11flux18),np.mean(star17flux18))\n",
    "logflux18 = log10(flux18)\n",
    "plt.figure(figsize=(8,8))\n",
    "plt.title('Flux18 vs. Rmag')\n",
    "plt.scatter(Rmag,logflux18,label='Data')\n",
    "plt.xlabel('Rmag')\n",
    "plt.ylabel('Flux18')\n",
    "plt.grid()\n",
    "plt.legend()\n",
    "plt.show()"
   ]
  },
  {
   "cell_type": "code",
   "execution_count": 9,
   "metadata": {},
   "outputs": [
    {
     "name": "stdout",
     "output_type": "stream",
     "text": [
      "The fit coefficients are: [-0.40835391  9.14540331]\n",
      "log10 values of flux are: [4.04082441 4.37046    4.18014811 4.29488446 3.81060727 4.19942262\n",
      " 3.95627316 4.16443475]\n",
      "Rmag values are: (12.514, 11.7011, 12.1691, 11.851, 13.06, 12.084, 12.683, 12.25)\n"
     ]
    }
   ],
   "source": [
    "#Linear regression fit to obtain slope and y-intercept\n",
    "fit = np.polyfit(Rmag,logflux18,1)\n",
    "\n",
    "print(\"The fit coefficients are:\",fit)\n",
    "print(\"log10 values of flux are:\",logflux18)\n",
    "print(\"Rmag values are:\",Rmag)"
   ]
  },
  {
   "cell_type": "markdown",
   "metadata": {},
   "source": [
    "log10(flux) = -0.4 Rmag + c where c is a constant"
   ]
  },
  {
   "cell_type": "code",
   "execution_count": 10,
   "metadata": {},
   "outputs": [
    {
     "name": "stdout",
     "output_type": "stream",
     "text": [
      "The residual values are: [ 0.00556193  0.00324662  0.00404436 -0.01111667 -0.00169397 -0.01143204\n",
      " -0.00997751  0.02136684]\n"
     ]
    }
   ],
   "source": [
    "#Residual values\n",
    "residual = np.array(logflux18 +(0.40835391*np.asarray(Rmag) - 9.14540331))\n",
    "\n",
    "print(\"The residual values are:\",residual)"
   ]
  },
  {
   "cell_type": "code",
   "execution_count": 11,
   "metadata": {},
   "outputs": [
    {
     "name": "stdout",
     "output_type": "stream",
     "text": [
      "The sigma of residuals is: 0.01043471543748969\n"
     ]
    }
   ],
   "source": [
    "#This represents the error in residuals\n",
    "sigmares = np.sqrt((np.mean(residual**2)))\n",
    "\n",
    "sigmares #Anything outside of 2sigmares then it is a \"bad\" point\n",
    "print(\"The sigma of residuals is:\",sigmares)"
   ]
  },
  {
   "cell_type": "code",
   "execution_count": 12,
   "metadata": {},
   "outputs": [
    {
     "name": "stdout",
     "output_type": "stream",
     "text": [
      "The mean of MSky is: 13.242237936298077\n",
      "The MSky in arcseconds^2 is: 69.98143974790898\n",
      "The sky brightness is: 17.87767977267137\n",
      "The mean of the sky brightness is: 17.87767977267137\n"
     ]
    }
   ],
   "source": [
    "meanmean = np.mean(meanmsky) #msky is 17.87\n",
    "\n",
    "print(\"The mean of MSky is:\",meanmean) #In DU/pixel\n",
    "\n",
    "mskyarc = meanmean/(0.435**2) #in arcsecond^2\n",
    "\n",
    "print(\"The MSky in arcseconds^2 is:\",mskyarc)\n",
    "\n",
    "skybrightness = (log10(mskyarc)-9.14540331)/-0.40835391\n",
    "\n",
    "print(\"The sky brightness is:\",skybrightness)\n",
    "\n",
    "meanskybrightness = np.mean(skybrightness)\n",
    "\n",
    "print(\"The mean of the sky brightness is:\",meanskybrightness)"
   ]
  },
  {
   "cell_type": "code",
   "execution_count": 13,
   "metadata": {},
   "outputs": [
    {
     "name": "stdout",
     "output_type": "stream",
     "text": [
      "The flux20 is: 9.513166765906558\n",
      "The gain of flux20 is: 14.269750148859837\n"
     ]
    }
   ],
   "source": [
    "flux20 = 10**((-0.40835391*20)+9.14540331)\n",
    "\n",
    "print(\"The flux20 is:\",flux20) #per 2-second exposure\n",
    "\n",
    "gainflux20 = (flux20/2)*3 #photons/sec for flux20 star\n",
    "\n",
    "print(\"The gain of flux20 is:\",gainflux20)"
   ]
  },
  {
   "cell_type": "markdown",
   "metadata": {},
   "source": [
    "S/N = at/sqrt(at+bt+c)"
   ]
  },
  {
   "cell_type": "code",
   "execution_count": 14,
   "metadata": {},
   "outputs": [],
   "source": [
    "#Victoria\n",
    "area = 1018.5 #pixels for aperture = 18\n",
    "gain = 3.01\n",
    "a = gainflux20\n",
    "b = ((meanmean/2)*3)*area\n",
    "c = ((1.42*3)**2)*area #Du"
   ]
  },
  {
   "cell_type": "code",
   "execution_count": 15,
   "metadata": {},
   "outputs": [
    {
     "name": "stdout",
     "output_type": "stream",
     "text": [
      "The exposure time for S/N of 10 is: 9943.22 seconds ~ 2.76 hours\n",
      "The exposure time for S/N of 20 is: 39770.14 seconds ~ 11.05 hours\n",
      "The exposure time for S/N of 50 is: 248558.58 seconds ~ 69.04 hours\n",
      "The exposure time for S/N of 100 is: 994231.60 seconds ~ 276.18 hours\n"
     ]
    }
   ],
   "source": [
    "vals = [10,20,50,100]\n",
    "t = sympy.Symbol('t')\n",
    "sols = []\n",
    "for val in vals:\n",
    "    SN = (a*t)/((((a+b)*t)+c)**0.5)-val\n",
    "    sol = sympy.solve(SN,t)\n",
    "    sols.append(sol)\n",
    "    print(\"The exposure time for S/N of\",val,\"is:\",round(sol[0],2),\"seconds ~\",round(sol[0]/3600,2),\"hours\")"
   ]
  },
  {
   "cell_type": "code",
   "execution_count": 16,
   "metadata": {},
   "outputs": [
    {
     "name": "stdout",
     "output_type": "stream",
     "text": [
      "The exposure time for S/N of 10 is: 188.45 seconds ~ 0.05 hours\n",
      "The exposure time for S/N of 20 is: 608.24 seconds ~ 0.17 hours\n",
      "The exposure time for S/N of 50 is: 3464.83 seconds ~ 0.96 hours\n",
      "The exposure time for S/N of 100 is: 13645.37 seconds ~ 3.79 hours\n"
     ]
    }
   ],
   "source": [
    "#Dark site\n",
    "area = 1018.5\n",
    "gain = 3.01\n",
    "a = gainflux20\n",
    "c = ((meanmean/2)*3)*area\n",
    "meanmean22 = ((10**(22.5*(-0.40835391)+9.14540331))*(0.435**2))\n",
    "bd = ((meanmean22/2)*3)*area\n",
    "\n",
    "vals = [10,20,50,100]\n",
    "t = sympy.Symbol('t')\n",
    "sols = []\n",
    "\n",
    "for val in vals:\n",
    "    SN = (a*t)/((((a+bd)*t)+c)**0.5)-val\n",
    "    sol = sympy.solve(SN,t)\n",
    "    sols.append(sol)\n",
    "    print(\"The exposure time for S/N of\",val,\"is:\",round(sol[0],2),\"seconds ~\",round(sol[0]/3600,2),\"hours\")"
   ]
  },
  {
   "cell_type": "code",
   "execution_count": 25,
   "metadata": {},
   "outputs": [
    {
     "name": "stdout",
     "output_type": "stream",
     "text": [
      "[589.507449883129]\n",
      "The Rmag for Victoria is: 16.042469805679346 which is the faintest star that can be observed in Victoria\n"
     ]
    }
   ],
   "source": [
    "#Calculate the flux value for S/N = 100 and t = 600 sec\n",
    "t = 600\n",
    "val = 100\n",
    "a = sympy.Symbol('a')\n",
    "\n",
    "#Victoria\n",
    "area = 1018.5 #pixels\n",
    "gain = 3.01\n",
    "b = ((meanmean/2)*3)*area\n",
    "c = ((1.42*3)**2)*area #Du\n",
    "SNqq = (a*t)/((((a+b)*t)+c)**0.5)-val\n",
    "solss = sympy.solve(SNqq,a)\n",
    "print(solss)\n",
    "\n",
    "fluxx = (((log10(589.507449883129*(2/3)))-9.14540331)/-0.40835391)\n",
    "print(\"The Rmag for Victoria is:\",fluxx,\"which is the faintest star that can be observed in Victoria\")"
   ]
  },
  {
   "cell_type": "code",
   "execution_count": 24,
   "metadata": {},
   "outputs": [
    {
     "name": "stdout",
     "output_type": "stream",
     "text": [
      "[79.0425031404673]\n",
      "The Rmag for dark site is: 18.17941178498126 which is the faintest star that can be observed at a dark site\n"
     ]
    }
   ],
   "source": [
    "#Calculate the flux value for S/N = 100 and t = 600 sec\n",
    "t = 600\n",
    "val = 100\n",
    "a = sympy.Symbol('a')\n",
    "\n",
    "#Dark site\n",
    "area = 1018.5\n",
    "gain = 3.01\n",
    "c = ((meanmean/2)*3)*area\n",
    "meanmean22 = ((10**(22.5*(-0.40835391)+9.14540331))*(0.435**2))\n",
    "bd = ((meanmean22/2)*3)*area\n",
    "SNqqd = (a*t)/((((a+bd)*t)+c)**0.5)-val\n",
    "solssd = sympy.solve(SNqqd,a)\n",
    "print(solssd)\n",
    "\n",
    "fluxxd = (((log10(79.0425031404673*(2/3)))-9.14540331)/-0.40835391)\n",
    "print(\"The Rmag for dark site is:\",fluxxd,\"which is the faintest star that can be observed at a dark site\")"
   ]
  },
  {
   "cell_type": "code",
   "execution_count": 19,
   "metadata": {},
   "outputs": [
    {
     "data": {
      "text/plain": [
       "(12.514, 11.7011, 12.1691, 11.851, 13.06, 12.084, 12.683, 12.25)"
      ]
     },
     "execution_count": 19,
     "metadata": {},
     "output_type": "execute_result"
    }
   ],
   "source": [
    "Rmag"
   ]
  },
  {
   "cell_type": "code",
   "execution_count": 20,
   "metadata": {},
   "outputs": [
    {
     "data": {
      "text/plain": [
       "(10985.6159375,\n",
       " 23467.1309375,\n",
       " 15140.775,\n",
       " 19718.98046875,\n",
       " 6465.57675,\n",
       " 15827.8753125,\n",
       " 9042.180171875,\n",
       " 14602.75328125)"
      ]
     },
     "execution_count": 20,
     "metadata": {},
     "output_type": "execute_result"
    }
   ],
   "source": [
    "flux18"
   ]
  },
  {
   "cell_type": "code",
   "execution_count": 23,
   "metadata": {
    "scrolled": true
   },
   "outputs": [
    {
     "name": "stdout",
     "output_type": "stream",
     "text": [
      "The flux in DU is: [ 49621.49622954 104913.13272892  68175.73917551  91383.935099\n",
      "  30010.26672425  73734.34987108  42468.78685994  63280.49320176]\n",
      "\n",
      "Comparing the two fluxes: [0.22138824 0.22368154 0.2220845  0.2157817  0.21544549 0.21466081\n",
      " 0.21291355 0.23076232]\n",
      "\n",
      "We are getting ~20% of the signal\n"
     ]
    }
   ],
   "source": [
    "#First principle\n",
    "n = 0\n",
    "m = np.array(Rmag)\n",
    "ln = (1000 * 2 * np.pi*(40**2) * 1500)/3\n",
    "lm = ln * (10**((m-n)/-2.5))\n",
    "print(\"The flux in DU is:\",lm)\n",
    "\n",
    "ratio = flux18/lm\n",
    "print(\"\\nComparing the two fluxes:\",ratio)\n",
    "\n",
    "print(\"\\nWe are getting ~20% of the signal\")"
   ]
  },
  {
   "cell_type": "code",
   "execution_count": null,
   "metadata": {},
   "outputs": [],
   "source": []
  }
 ],
 "metadata": {
  "kernelspec": {
   "display_name": "Python 3",
   "language": "python",
   "name": "python3"
  },
  "language_info": {
   "codemirror_mode": {
    "name": "ipython",
    "version": 3
   },
   "file_extension": ".py",
   "mimetype": "text/x-python",
   "name": "python",
   "nbconvert_exporter": "python",
   "pygments_lexer": "ipython3",
   "version": "3.7.6"
  }
 },
 "nbformat": 4,
 "nbformat_minor": 4
}
